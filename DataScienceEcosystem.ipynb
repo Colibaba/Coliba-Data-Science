{
 "cells": [
  {
   "cell_type": "markdown",
   "id": "6ed12912",
   "metadata": {},
   "source": [
    "# Data Science Tools and Ecosystem\n"
   ]
  },
  {
   "cell_type": "markdown",
   "id": "33f430f6",
   "metadata": {},
   "source": [
    "In this notebook, Data Science Tools and Ecosystem are summarized.\n"
   ]
  },
  {
   "cell_type": "markdown",
   "id": "16080083",
   "metadata": {},
   "source": [
    "**Objectives**:\n",
    "<ul>\n",
    "    <li>Code Asset Management</li>\n",
    "    <li>Cloud based Tools for Data Science</li>\n",
    "    <li>Languages for Datascience</li>\n",
    "    <li>Introduction to Jupyter notebook</li>\n",
    "    <li>Model Asset Management<>\n",
    "</ul>\n"
   ]
  },
  {
   "cell_type": "markdown",
   "id": "1938ad17",
   "metadata": {},
   "source": [
    "Some of the popular languages that Data Scientists use are:\n",
    "<ol>\n",
    "    <li>Python</li>\n",
    "    <li>R</li>\n",
    "    <li>SQL</li>\n",
    "    <li>scala</li>\n",
    "    <li>julia</li>\n",
    "</ol>"
   ]
  },
  {
   "cell_type": "markdown",
   "id": "441b88ff",
   "metadata": {},
   "source": [
    "Some of the most commonly used libraries used by Data Scientists include:\n",
    "\n",
    "<ol>\n",
    "<li>Pandas</li>\n",
    "<li>Seaborn</li>\n",
    "<li>numpy</li>\n",
    "<li>keras</li>\n",
    "<li>Scikit-learn</li>\n",
    "<li>Pytorch</li>\n",
    "<li>TensorFlow</li>\n",
    "</ol>"
   ]
  },
  {
   "cell_type": "markdown",
   "id": "3d3f304c",
   "metadata": {},
   "source": [
    " Data Science Tools\n",
    " \n",
    "|**Data Management** | **Data Visualization** | **Model deployment**|\n",
    "|--------------|---------------|--------------|\n",
    "|Hadoop file system | ggplot2|TensorFlow|\n",
    "|MySQL|Apache Superset|Apache Prediction IQ|\n",
    "\n",
    "\n"
   ]
  },
  {
   "cell_type": "markdown",
   "id": "5bbdf158",
   "metadata": {},
   "source": [
    "<H3>Below are a few examples of evaluating arithmetic expresions in Python</H3>\n"
   ]
  },
  {
   "cell_type": "code",
   "execution_count": 1,
   "id": "36da31e5",
   "metadata": {},
   "outputs": [
    {
     "data": {
      "text/plain": [
       "17"
      ]
     },
     "execution_count": 1,
     "metadata": {},
     "output_type": "execute_result"
    }
   ],
   "source": [
    "# This is a simple arithmetic expression to multiply then add integers\n",
    "(3 * 4) + 5"
   ]
  },
  {
   "cell_type": "code",
   "execution_count": 2,
   "id": "8caf5f17",
   "metadata": {},
   "outputs": [
    {
     "data": {
      "text/plain": [
       "3.3333333333333335"
      ]
     },
     "execution_count": 2,
     "metadata": {},
     "output_type": "execute_result"
    }
   ],
   "source": [
    "# This will convert 200minutes to hours by dividing by 60\n",
    "200/60"
   ]
  },
  {
   "cell_type": "markdown",
   "id": "0d354ca4",
   "metadata": {},
   "source": [
    "<H2>Author</H2>\n",
    "Collins Akasiugwu"
   ]
  },
  {
   "cell_type": "code",
   "execution_count": null,
   "id": "85b416fe",
   "metadata": {},
   "outputs": [],
   "source": []
  }
 ],
 "metadata": {
  "kernelspec": {
   "display_name": "Python 3 (ipykernel)",
   "language": "python",
   "name": "python3"
  },
  "language_info": {
   "codemirror_mode": {
    "name": "ipython",
    "version": 3
   },
   "file_extension": ".py",
   "mimetype": "text/x-python",
   "name": "python",
   "nbconvert_exporter": "python",
   "pygments_lexer": "ipython3",
   "version": "3.8.16"
  }
 },
 "nbformat": 4,
 "nbformat_minor": 5
}
