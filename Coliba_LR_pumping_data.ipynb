{
 "cells": [
  {
   "cell_type": "code",
   "execution_count": 1,
   "id": "0979725f-60d6-45a0-ad3b-ebdbee88d7a5",
   "metadata": {},
   "outputs": [],
   "source": [
    "import numpy as np\n",
    "import pandas as pd\n",
    "import matplotlib.pyplot as plt"
   ]
  },
  {
   "cell_type": "code",
   "execution_count": 2,
   "id": "924a792b-3778-493c-b792-25d03a564d8d",
   "metadata": {},
   "outputs": [],
   "source": [
    "pumping_data = pd.read_csv(\"acid_stuck_pipe.csv\", index_col=[0], parse_dates=[\"Time\"])"
   ]
  },
  {
   "cell_type": "code",
   "execution_count": 3,
   "id": "f0f014c4-532b-400f-a264-eae661cc2603",
   "metadata": {},
   "outputs": [
    {
     "data": {
      "text/html": [
       "<div>\n",
       "<style scoped>\n",
       "    .dataframe tbody tr th:only-of-type {\n",
       "        vertical-align: middle;\n",
       "    }\n",
       "\n",
       "    .dataframe tbody tr th {\n",
       "        vertical-align: top;\n",
       "    }\n",
       "\n",
       "    .dataframe thead th {\n",
       "        text-align: right;\n",
       "    }\n",
       "</style>\n",
       "<table border=\"1\" class=\"dataframe\">\n",
       "  <thead>\n",
       "    <tr style=\"text-align: right;\">\n",
       "      <th></th>\n",
       "      <th>Pressure</th>\n",
       "      <th>Rate</th>\n",
       "      <th>T_BBLS</th>\n",
       "    </tr>\n",
       "    <tr>\n",
       "      <th>Time</th>\n",
       "      <th></th>\n",
       "      <th></th>\n",
       "      <th></th>\n",
       "    </tr>\n",
       "  </thead>\n",
       "  <tbody>\n",
       "    <tr>\n",
       "      <th>2023-05-07 01:21:26</th>\n",
       "      <td>45</td>\n",
       "      <td>0.0</td>\n",
       "      <td>11.78</td>\n",
       "    </tr>\n",
       "    <tr>\n",
       "      <th>2023-05-07 01:21:28</th>\n",
       "      <td>45</td>\n",
       "      <td>0.0</td>\n",
       "      <td>11.78</td>\n",
       "    </tr>\n",
       "    <tr>\n",
       "      <th>2023-05-07 01:21:30</th>\n",
       "      <td>45</td>\n",
       "      <td>0.0</td>\n",
       "      <td>11.78</td>\n",
       "    </tr>\n",
       "    <tr>\n",
       "      <th>2023-05-07 01:21:32</th>\n",
       "      <td>45</td>\n",
       "      <td>0.0</td>\n",
       "      <td>11.78</td>\n",
       "    </tr>\n",
       "    <tr>\n",
       "      <th>2023-05-07 01:21:34</th>\n",
       "      <td>45</td>\n",
       "      <td>0.0</td>\n",
       "      <td>11.78</td>\n",
       "    </tr>\n",
       "  </tbody>\n",
       "</table>\n",
       "</div>"
      ],
      "text/plain": [
       "                     Pressure  Rate  T_BBLS\n",
       "Time                                       \n",
       "2023-05-07 01:21:26        45   0.0   11.78\n",
       "2023-05-07 01:21:28        45   0.0   11.78\n",
       "2023-05-07 01:21:30        45   0.0   11.78\n",
       "2023-05-07 01:21:32        45   0.0   11.78\n",
       "2023-05-07 01:21:34        45   0.0   11.78"
      ]
     },
     "execution_count": 3,
     "metadata": {},
     "output_type": "execute_result"
    }
   ],
   "source": [
    "pumping_data.head()"
   ]
  },
  {
   "cell_type": "code",
   "execution_count": 4,
   "id": "4f338797-1c1d-4a54-9c5d-4d0aa687b6d9",
   "metadata": {},
   "outputs": [
    {
     "data": {
      "text/html": [
       "<div>\n",
       "<style scoped>\n",
       "    .dataframe tbody tr th:only-of-type {\n",
       "        vertical-align: middle;\n",
       "    }\n",
       "\n",
       "    .dataframe tbody tr th {\n",
       "        vertical-align: top;\n",
       "    }\n",
       "\n",
       "    .dataframe thead th {\n",
       "        text-align: right;\n",
       "    }\n",
       "</style>\n",
       "<table border=\"1\" class=\"dataframe\">\n",
       "  <thead>\n",
       "    <tr style=\"text-align: right;\">\n",
       "      <th></th>\n",
       "      <th>Pressure</th>\n",
       "      <th>Rate</th>\n",
       "      <th>T_BBLS</th>\n",
       "    </tr>\n",
       "  </thead>\n",
       "  <tbody>\n",
       "    <tr>\n",
       "      <th>count</th>\n",
       "      <td>1764.000000</td>\n",
       "      <td>1764.000000</td>\n",
       "      <td>1764.000000</td>\n",
       "    </tr>\n",
       "    <tr>\n",
       "      <th>mean</th>\n",
       "      <td>1081.323129</td>\n",
       "      <td>2.241746</td>\n",
       "      <td>30.365017</td>\n",
       "    </tr>\n",
       "    <tr>\n",
       "      <th>std</th>\n",
       "      <td>682.319152</td>\n",
       "      <td>1.277366</td>\n",
       "      <td>31.692500</td>\n",
       "    </tr>\n",
       "    <tr>\n",
       "      <th>min</th>\n",
       "      <td>45.000000</td>\n",
       "      <td>0.000000</td>\n",
       "      <td>0.000000</td>\n",
       "    </tr>\n",
       "    <tr>\n",
       "      <th>25%</th>\n",
       "      <td>762.000000</td>\n",
       "      <td>1.957500</td>\n",
       "      <td>1.815000</td>\n",
       "    </tr>\n",
       "    <tr>\n",
       "      <th>50%</th>\n",
       "      <td>1068.500000</td>\n",
       "      <td>2.670000</td>\n",
       "      <td>16.945000</td>\n",
       "    </tr>\n",
       "    <tr>\n",
       "      <th>75%</th>\n",
       "      <td>1304.000000</td>\n",
       "      <td>3.192500</td>\n",
       "      <td>55.437500</td>\n",
       "    </tr>\n",
       "    <tr>\n",
       "      <th>max</th>\n",
       "      <td>2995.000000</td>\n",
       "      <td>4.500000</td>\n",
       "      <td>99.540000</td>\n",
       "    </tr>\n",
       "  </tbody>\n",
       "</table>\n",
       "</div>"
      ],
      "text/plain": [
       "          Pressure         Rate       T_BBLS\n",
       "count  1764.000000  1764.000000  1764.000000\n",
       "mean   1081.323129     2.241746    30.365017\n",
       "std     682.319152     1.277366    31.692500\n",
       "min      45.000000     0.000000     0.000000\n",
       "25%     762.000000     1.957500     1.815000\n",
       "50%    1068.500000     2.670000    16.945000\n",
       "75%    1304.000000     3.192500    55.437500\n",
       "max    2995.000000     4.500000    99.540000"
      ]
     },
     "execution_count": 4,
     "metadata": {},
     "output_type": "execute_result"
    }
   ],
   "source": [
    "pumping_data.describe()"
   ]
  },
  {
   "cell_type": "code",
   "execution_count": 5,
   "id": "14d8dcaf-f122-4019-9f56-b56be99e8485",
   "metadata": {},
   "outputs": [
    {
     "data": {
      "text/plain": [
       "<Axes: xlabel='Time'>"
      ]
     },
     "execution_count": 5,
     "metadata": {},
     "output_type": "execute_result"
    },
    {
     "data": {
      "image/png": "[encoded data removed]",
      "text/plain": [
       "<Figure size 640x480 with 1 Axes>"
      ]
     },
     "metadata": {},
     "output_type": "display_data"
    }
   ],
   "source": [
    "pumping_data.plot()"
   ]
  },
  {
   "cell_type": "code",
   "execution_count": 6,
   "id": "35a7b530-3363-4025-a9e0-9183babeb9e6",
   "metadata": {},
   "outputs": [
    {
     "ename": "NameError",
     "evalue": "name 'pumping_data_1' is not defined",
     "output_type": "error",
     "traceback": [
      "\u001b[1;31m---------------------------------------------------------------------------\u001b[0m",
      "\u001b[1;31mNameError\u001b[0m                                 Traceback (most recent call last)",
      "Cell \u001b[1;32mIn[6], line 1\u001b[0m\n\u001b[1;32m----> 1\u001b[0m \u001b[43mpumping_data_1\u001b[49m[\u001b[38;5;124m\"\u001b[39m\u001b[38;5;124mRate\u001b[39m\u001b[38;5;124m\"\u001b[39m]\u001b[38;5;241m.\u001b[39mplot(kind\u001b[38;5;241m=\u001b[39m\u001b[38;5;124m\"\u001b[39m\u001b[38;5;124mkde\u001b[39m\u001b[38;5;124m\"\u001b[39m)\n",
      "\u001b[1;31mNameError\u001b[0m: name 'pumping_data_1' is not defined"
     ]
    }
   ],
   "source": [
    "pumping_data_1[\"Rate\"].plot(kind=\"kde\")"
   ]
  },
  {
   "cell_type": "code",
   "execution_count": null,
   "id": "7554f74a-5b14-47a9-99d8-03379235c795",
   "metadata": {},
   "outputs": [],
   "source": []
  },
  {
   "cell_type": "code",
   "execution_count": 7,
   "id": "b3706808-f5cd-4385-bce1-3fde18e9d31c",
   "metadata": {},
   "outputs": [],
   "source": [
    "pumping_data_1 = pumping_data[\"2023-05-02 01:33:46\":]"
   ]
  },
  {
   "cell_type": "code",
   "execution_count": 8,
   "id": "bba5cb42-2de4-4c82-87d3-ec85b92de4d2",
   "metadata": {},
   "outputs": [
    {
     "data": {
      "text/html": [
       "<div>\n",
       "<style scoped>\n",
       "    .dataframe tbody tr th:only-of-type {\n",
       "        vertical-align: middle;\n",
       "    }\n",
       "\n",
       "    .dataframe tbody tr th {\n",
       "        vertical-align: top;\n",
       "    }\n",
       "\n",
       "    .dataframe thead th {\n",
       "        text-align: right;\n",
       "    }\n",
       "</style>\n",
       "<table border=\"1\" class=\"dataframe\">\n",
       "  <thead>\n",
       "    <tr style=\"text-align: right;\">\n",
       "      <th></th>\n",
       "      <th>Pressure</th>\n",
       "      <th>Rate</th>\n",
       "      <th>T_BBLS</th>\n",
       "    </tr>\n",
       "    <tr>\n",
       "      <th>Time</th>\n",
       "      <th></th>\n",
       "      <th></th>\n",
       "      <th></th>\n",
       "    </tr>\n",
       "  </thead>\n",
       "  <tbody>\n",
       "    <tr>\n",
       "      <th>2023-05-07 02:19:34</th>\n",
       "      <td>1542</td>\n",
       "      <td>2.67</td>\n",
       "      <td>10.10</td>\n",
       "    </tr>\n",
       "    <tr>\n",
       "      <th>2023-05-07 02:19:36</th>\n",
       "      <td>1523</td>\n",
       "      <td>2.67</td>\n",
       "      <td>10.22</td>\n",
       "    </tr>\n",
       "    <tr>\n",
       "      <th>2023-05-07 02:19:38</th>\n",
       "      <td>1501</td>\n",
       "      <td>2.74</td>\n",
       "      <td>10.33</td>\n",
       "    </tr>\n",
       "    <tr>\n",
       "      <th>2023-05-07 02:19:40</th>\n",
       "      <td>1408</td>\n",
       "      <td>2.88</td>\n",
       "      <td>10.45</td>\n",
       "    </tr>\n",
       "    <tr>\n",
       "      <th>2023-05-07 02:19:42</th>\n",
       "      <td>1408</td>\n",
       "      <td>2.89</td>\n",
       "      <td>10.57</td>\n",
       "    </tr>\n",
       "    <tr>\n",
       "      <th>2023-05-07 02:19:44</th>\n",
       "      <td>1540</td>\n",
       "      <td>2.88</td>\n",
       "      <td>10.70</td>\n",
       "    </tr>\n",
       "    <tr>\n",
       "      <th>2023-05-07 02:19:46</th>\n",
       "      <td>1530</td>\n",
       "      <td>2.88</td>\n",
       "      <td>10.82</td>\n",
       "    </tr>\n",
       "    <tr>\n",
       "      <th>2023-05-07 02:19:48</th>\n",
       "      <td>1530</td>\n",
       "      <td>2.74</td>\n",
       "      <td>10.94</td>\n",
       "    </tr>\n",
       "    <tr>\n",
       "      <th>2023-05-07 02:19:50</th>\n",
       "      <td>1385</td>\n",
       "      <td>2.39</td>\n",
       "      <td>11.05</td>\n",
       "    </tr>\n",
       "    <tr>\n",
       "      <th>2023-05-07 02:19:52</th>\n",
       "      <td>1385</td>\n",
       "      <td>2.39</td>\n",
       "      <td>11.17</td>\n",
       "    </tr>\n",
       "    <tr>\n",
       "      <th>2023-05-07 02:19:54</th>\n",
       "      <td>1288</td>\n",
       "      <td>2.20</td>\n",
       "      <td>11.30</td>\n",
       "    </tr>\n",
       "    <tr>\n",
       "      <th>2023-05-07 02:19:56</th>\n",
       "      <td>1288</td>\n",
       "      <td>2.19</td>\n",
       "      <td>11.42</td>\n",
       "    </tr>\n",
       "    <tr>\n",
       "      <th>2023-05-07 02:19:58</th>\n",
       "      <td>1445</td>\n",
       "      <td>2.19</td>\n",
       "      <td>11.55</td>\n",
       "    </tr>\n",
       "    <tr>\n",
       "      <th>2023-05-07 02:20:00</th>\n",
       "      <td>1069</td>\n",
       "      <td>2.19</td>\n",
       "      <td>11.69</td>\n",
       "    </tr>\n",
       "    <tr>\n",
       "      <th>2023-05-07 02:20:02</th>\n",
       "      <td>1069</td>\n",
       "      <td>2.19</td>\n",
       "      <td>11.82</td>\n",
       "    </tr>\n",
       "    <tr>\n",
       "      <th>2023-05-07 02:20:04</th>\n",
       "      <td>1590</td>\n",
       "      <td>1.96</td>\n",
       "      <td>11.95</td>\n",
       "    </tr>\n",
       "    <tr>\n",
       "      <th>2023-05-07 02:20:06</th>\n",
       "      <td>1586</td>\n",
       "      <td>1.86</td>\n",
       "      <td>12.07</td>\n",
       "    </tr>\n",
       "    <tr>\n",
       "      <th>2023-05-07 02:20:08</th>\n",
       "      <td>1586</td>\n",
       "      <td>1.86</td>\n",
       "      <td>12.20</td>\n",
       "    </tr>\n",
       "    <tr>\n",
       "      <th>2023-05-07 02:20:10</th>\n",
       "      <td>1309</td>\n",
       "      <td>1.49</td>\n",
       "      <td>12.33</td>\n",
       "    </tr>\n",
       "    <tr>\n",
       "      <th>2023-05-07 02:20:12</th>\n",
       "      <td>1309</td>\n",
       "      <td>1.40</td>\n",
       "      <td>12.45</td>\n",
       "    </tr>\n",
       "  </tbody>\n",
       "</table>\n",
       "</div>"
      ],
      "text/plain": [
       "                     Pressure  Rate  T_BBLS\n",
       "Time                                       \n",
       "2023-05-07 02:19:34      1542  2.67   10.10\n",
       "2023-05-07 02:19:36      1523  2.67   10.22\n",
       "2023-05-07 02:19:38      1501  2.74   10.33\n",
       "2023-05-07 02:19:40      1408  2.88   10.45\n",
       "2023-05-07 02:19:42      1408  2.89   10.57\n",
       "2023-05-07 02:19:44      1540  2.88   10.70\n",
       "2023-05-07 02:19:46      1530  2.88   10.82\n",
       "2023-05-07 02:19:48      1530  2.74   10.94\n",
       "2023-05-07 02:19:50      1385  2.39   11.05\n",
       "2023-05-07 02:19:52      1385  2.39   11.17\n",
       "2023-05-07 02:19:54      1288  2.20   11.30\n",
       "2023-05-07 02:19:56      1288  2.19   11.42\n",
       "2023-05-07 02:19:58      1445  2.19   11.55\n",
       "2023-05-07 02:20:00      1069  2.19   11.69\n",
       "2023-05-07 02:20:02      1069  2.19   11.82\n",
       "2023-05-07 02:20:04      1590  1.96   11.95\n",
       "2023-05-07 02:20:06      1586  1.86   12.07\n",
       "2023-05-07 02:20:08      1586  1.86   12.20\n",
       "2023-05-07 02:20:10      1309  1.49   12.33\n",
       "2023-05-07 02:20:12      1309  1.40   12.45"
      ]
     },
     "execution_count": 8,
     "metadata": {},
     "output_type": "execute_result"
    }
   ],
   "source": [
    "pumping_data_1.tail(20)"
   ]
  },
  {
   "cell_type": "code",
   "execution_count": 9,
   "id": "8833a54f-1c61-4e30-b722-0e09e21f0fe7",
   "metadata": {},
   "outputs": [
    {
     "data": {
      "text/plain": [
       "<matplotlib.collections.PathCollection at 0x1884bb286a0>"
      ]
     },
     "execution_count": 9,
     "metadata": {},
     "output_type": "execute_result"
    },
    {
     "data": {
      "image/png": "[encoded data removed]",
      "text/plain": [
       "<Figure size 640x480 with 1 Axes>"
      ]
     },
     "metadata": {},
     "output_type": "display_data"
    }
   ],
   "source": [
    "plt.scatter(pumping_data_1[\"Rate\"], pumping_data_1[\"Pressure\"])"
   ]
  },
  {
   "cell_type": "code",
   "execution_count": 10,
   "id": "76f6b76f-d30d-4245-a586-88ed36a897e6",
   "metadata": {},
   "outputs": [],
   "source": [
    "from sklearn.linear_model import LinearRegression\n",
    "from sklearn import model_selection, linear_model"
   ]
  },
  {
   "cell_type": "code",
   "execution_count": 11,
   "id": "d5122f0d-4762-4d1a-8e84-05f1db1dc6f9",
   "metadata": {},
   "outputs": [],
   "source": [
    "# Instantiate the model\n",
    "modelLR = LinearRegression()"
   ]
  },
  {
   "cell_type": "code",
   "execution_count": 12,
   "id": "c4cc8785-69fc-4227-bcbc-7799d831cc26",
   "metadata": {},
   "outputs": [],
   "source": [
    "## Select test and train data\n",
    "X = pumping_data_1.iloc[:,0:1]"
   ]
  },
  {
   "cell_type": "code",
   "execution_count": 13,
   "id": "7cec5f8d-aa3e-4488-83d5-8684547d219e",
   "metadata": {},
   "outputs": [],
   "source": [
    "\n",
    "\n",
    "\n",
    "y = pumping_data_1.iloc[:, 1:2]"
   ]
  },
  {
   "cell_type": "code",
   "execution_count": 14,
   "id": "7c52a59d-d423-4d68-a500-d78897cf4d73",
   "metadata": {},
   "outputs": [],
   "source": [
    "Xtest, Xtrain, ytest, ytrain = model_selection.train_test_split(\n",
    "    X, y, test_size=0.3, random_state = 2)"
   ]
  },
  {
   "cell_type": "code",
   "execution_count": 15,
   "id": "f949a26d-9682-4813-b8f5-b0a85c0f1a7b",
   "metadata": {},
   "outputs": [
    {
     "data": {
      "text/html": [
       "<style>#sk-container-id-1 {color: black;background-color: white;}#sk-container-id-1 pre{padding: 0;}#sk-container-id-1 div.sk-toggleable {background-color: white;}#sk-container-id-1 label.sk-toggleable__label {cursor: pointer;display: block;width: 100%;margin-bottom: 0;padding: 0.3em;box-sizing: border-box;text-align: center;}#sk-container-id-1 label.sk-toggleable__label-arrow:before {content: \"▸\";float: left;margin-right: 0.25em;color: #696969;}#sk-container-id-1 label.sk-toggleable__label-arrow:hover:before {color: black;}#sk-container-id-1 div.sk-estimator:hover label.sk-toggleable__label-arrow:before {color: black;}#sk-container-id-1 div.sk-toggleable__content {max-height: 0;max-width: 0;overflow: hidden;text-align: left;background-color: #f0f8ff;}#sk-container-id-1 div.sk-toggleable__content pre {margin: 0.2em;color: black;border-radius: 0.25em;background-color: #f0f8ff;}#sk-container-id-1 input.sk-toggleable__control:checked~div.sk-toggleable__content {max-height: 200px;max-width: 100%;overflow: auto;}#sk-container-id-1 input.sk-toggleable__control:checked~label.sk-toggleable__label-arrow:before {content: \"▾\";}#sk-container-id-1 div.sk-estimator input.sk-toggleable__control:checked~label.sk-toggleable__label {background-color: #d4ebff;}#sk-container-id-1 div.sk-label input.sk-toggleable__control:checked~label.sk-toggleable__label {background-color: #d4ebff;}#sk-container-id-1 input.sk-hidden--visually {border: 0;clip: rect(1px 1px 1px 1px);clip: rect(1px, 1px, 1px, 1px);height: 1px;margin: -1px;overflow: hidden;padding: 0;position: absolute;width: 1px;}#sk-container-id-1 div.sk-estimator {font-family: monospace;background-color: #f0f8ff;border: 1px dotted black;border-radius: 0.25em;box-sizing: border-box;margin-bottom: 0.5em;}#sk-container-id-1 div.sk-estimator:hover {background-color: #d4ebff;}#sk-container-id-1 div.sk-parallel-item::after {content: \"\";width: 100%;border-bottom: 1px solid gray;flex-grow: 1;}#sk-container-id-1 div.sk-label:hover label.sk-toggleable__label {background-color: #d4ebff;}#sk-container-id-1 div.sk-serial::before {content: \"\";position: absolute;border-left: 1px solid gray;box-sizing: border-box;top: 0;bottom: 0;left: 50%;z-index: 0;}#sk-container-id-1 div.sk-serial {display: flex;flex-direction: column;align-items: center;background-color: white;padding-right: 0.2em;padding-left: 0.2em;position: relative;}#sk-container-id-1 div.sk-item {position: relative;z-index: 1;}#sk-container-id-1 div.sk-parallel {display: flex;align-items: stretch;justify-content: center;background-color: white;position: relative;}#sk-container-id-1 div.sk-item::before, #sk-container-id-1 div.sk-parallel-item::before {content: \"\";position: absolute;border-left: 1px solid gray;box-sizing: border-box;top: 0;bottom: 0;left: 50%;z-index: -1;}#sk-container-id-1 div.sk-parallel-item {display: flex;flex-direction: column;z-index: 1;position: relative;background-color: white;}#sk-container-id-1 div.sk-parallel-item:first-child::after {align-self: flex-end;width: 50%;}#sk-container-id-1 div.sk-parallel-item:last-child::after {align-self: flex-start;width: 50%;}#sk-container-id-1 div.sk-parallel-item:only-child::after {width: 0;}#sk-container-id-1 div.sk-dashed-wrapped {border: 1px dashed gray;margin: 0 0.4em 0.5em 0.4em;box-sizing: border-box;padding-bottom: 0.4em;background-color: white;}#sk-container-id-1 div.sk-label label {font-family: monospace;font-weight: bold;display: inline-block;line-height: 1.2em;}#sk-container-id-1 div.sk-label-container {text-align: center;}#sk-container-id-1 div.sk-container {/* jupyter's `normalize.less` sets `[hidden] { display: none; }` but bootstrap.min.css set `[hidden] { display: none !important; }` so we also need the `!important` here to be able to override the default hidden behavior on the sphinx rendered scikit-learn.org. See: https://github.com/scikit-learn/scikit-learn/issues/21755 */display: inline-block !important;position: relative;}#sk-container-id-1 div.sk-text-repr-fallback {display: none;}</style><div id=\"sk-container-id-1\" class=\"sk-top-container\"><div class=\"sk-text-repr-fallback\"><pre>LinearRegression()</pre><b>In a Jupyter environment, please rerun this cell to show the HTML representation or trust the notebook. <br />On GitHub, the HTML representation is unable to render, please try loading this page with nbviewer.org.</b></div><div class=\"sk-container\" hidden><div class=\"sk-item\"><div class=\"sk-estimator sk-toggleable\"><input class=\"sk-toggleable__control sk-hidden--visually\" id=\"sk-estimator-id-1\" type=\"checkbox\" checked><label for=\"sk-estimator-id-1\" class=\"sk-toggleable__label sk-toggleable__label-arrow\">LinearRegression</label><div class=\"sk-toggleable__content\"><pre>LinearRegression()</pre></div></div></div></div></div>"
      ],
      "text/plain": [
       "LinearRegression()"
      ]
     },
     "execution_count": 15,
     "metadata": {},
     "output_type": "execute_result"
    }
   ],
   "source": [
    "## Train and fit the model\n",
    "modelLR.fit(Xtrain, ytrain)"
   ]
  },
  {
   "cell_type": "code",
   "execution_count": 16,
   "id": "7b49f50b-5fae-40b3-8e10-e6f61bee7fe9",
   "metadata": {},
   "outputs": [
    {
     "data": {
      "text/plain": [
       "-0.008161668503878117"
      ]
     },
     "execution_count": 16,
     "metadata": {},
     "output_type": "execute_result"
    }
   ],
   "source": [
    "modelLR.score(Xtest, ytest)"
   ]
  },
  {
   "cell_type": "code",
   "execution_count": 17,
   "id": "851652a7-bcf5-4bb1-b3e1-a1b63d243868",
   "metadata": {},
   "outputs": [],
   "source": [
    "\n",
    "\n",
    "\n",
    "from sklearn.metrics import mean_squared_error"
   ]
  },
  {
   "cell_type": "code",
   "execution_count": 18,
   "id": "493d914b-1d01-4444-a0c2-b7c189619f71",
   "metadata": {},
   "outputs": [],
   "source": [
    "y_pred = modelLR.predict(Xtest)\n"
   ]
  },
  {
   "cell_type": "code",
   "execution_count": 19,
   "id": "e934bcb9-4f82-4ea4-99ec-d0fd03a1f0d0",
   "metadata": {},
   "outputs": [
    {
     "name": "stdout",
     "output_type": "stream",
     "text": [
      "1.627007679516234\n"
     ]
    }
   ],
   "source": [
    "print(mean_squared_error(y_pred, ytest))"
   ]
  },
  {
   "cell_type": "code",
   "execution_count": 20,
   "id": "735db96d-ec0b-47f6-8300-267fd0ad4d68",
   "metadata": {},
   "outputs": [
    {
     "data": {
      "image/png": "[encoded data removed]",
      "text/plain": [
       "<Figure size 640x480 with 1 Axes>"
      ]
     },
     "metadata": {},
     "output_type": "display_data"
    }
   ],
   "source": [
    "plt.scatter(Xtest, ytest, c=\"blue\")\n",
    "plt.plot(Xtest, y_pred, c=\"black\", linewidth=2)\n",
    "plt.xlabel(\"Pumping Pressure\")\n",
    "plt.ylabel(\"pumping Rate\")\n",
    "plt.title(\"Estimating Pump Horse Power\")\n",
    "plt.grid()\n",
    "plt.show()"
   ]
  },
  {
   "cell_type": "code",
   "execution_count": 21,
   "id": "a41336a5-a434-4d1b-a22e-3b450878d800",
   "metadata": {},
   "outputs": [
    {
     "data": {
      "text/plain": [
       "array([[0.00012901]])"
      ]
     },
     "execution_count": 21,
     "metadata": {},
     "output_type": "execute_result"
    }
   ],
   "source": [
    "modelLR.coef_"
   ]
  },
  {
   "cell_type": "code",
   "execution_count": 22,
   "id": "cb0fe2c9-11f8-4d8d-a37d-bf72635e1720",
   "metadata": {},
   "outputs": [
    {
     "data": {
      "text/plain": [
       "array([2.11681379])"
      ]
     },
     "execution_count": 22,
     "metadata": {},
     "output_type": "execute_result"
    }
   ],
   "source": [
    "modelLR.intercept_"
   ]
  },
  {
   "cell_type": "code",
   "execution_count": 23,
   "id": "c93edac3-75a8-42d4-b503-93fd946600e4",
   "metadata": {},
   "outputs": [],
   "source": [
    "def get_hhp(Xtest, ypred):\n",
    "    hhp =(Xtest * ytest)/40.8\n",
    "    return hhp"
   ]
  },
  {
   "cell_type": "code",
   "execution_count": 24,
   "id": "afdf2cf1-a8b3-474c-8903-caca704d6db5",
   "metadata": {},
   "outputs": [
    {
     "data": {
      "text/html": [
       "<div>\n",
       "<style scoped>\n",
       "    .dataframe tbody tr th:only-of-type {\n",
       "        vertical-align: middle;\n",
       "    }\n",
       "\n",
       "    .dataframe tbody tr th {\n",
       "        vertical-align: top;\n",
       "    }\n",
       "\n",
       "    .dataframe thead th {\n",
       "        text-align: right;\n",
       "    }\n",
       "</style>\n",
       "<table border=\"1\" class=\"dataframe\">\n",
       "  <thead>\n",
       "    <tr style=\"text-align: right;\">\n",
       "      <th></th>\n",
       "      <th>Rate</th>\n",
       "    </tr>\n",
       "    <tr>\n",
       "      <th>Time</th>\n",
       "      <th></th>\n",
       "    </tr>\n",
       "  </thead>\n",
       "  <tbody>\n",
       "    <tr>\n",
       "      <th>2023-05-07 02:13:08</th>\n",
       "      <td>121.323529</td>\n",
       "    </tr>\n",
       "    <tr>\n",
       "      <th>2023-05-07 01:47:46</th>\n",
       "      <td>117.794118</td>\n",
       "    </tr>\n",
       "    <tr>\n",
       "      <th>2023-05-07 02:12:38</th>\n",
       "      <td>121.764706</td>\n",
       "    </tr>\n",
       "    <tr>\n",
       "      <th>2023-05-07 02:06:22</th>\n",
       "      <td>140.294118</td>\n",
       "    </tr>\n",
       "    <tr>\n",
       "      <th>2023-05-07 01:29:16</th>\n",
       "      <td>0.000000</td>\n",
       "    </tr>\n",
       "    <tr>\n",
       "      <th>...</th>\n",
       "      <td>...</td>\n",
       "    </tr>\n",
       "    <tr>\n",
       "      <th>2023-05-07 02:13:22</th>\n",
       "      <td>121.323529</td>\n",
       "    </tr>\n",
       "    <tr>\n",
       "      <th>2023-05-07 02:15:02</th>\n",
       "      <td>1.764706</td>\n",
       "    </tr>\n",
       "    <tr>\n",
       "      <th>2023-05-07 01:37:52</th>\n",
       "      <td>160.147059</td>\n",
       "    </tr>\n",
       "    <tr>\n",
       "      <th>2023-05-07 01:39:00</th>\n",
       "      <td>164.117647</td>\n",
       "    </tr>\n",
       "    <tr>\n",
       "      <th>2023-05-07 02:01:10</th>\n",
       "      <td>142.058824</td>\n",
       "    </tr>\n",
       "  </tbody>\n",
       "</table>\n",
       "<p>1234 rows × 1 columns</p>\n",
       "</div>"
      ],
      "text/plain": [
       "                           Rate\n",
       "Time                           \n",
       "2023-05-07 02:13:08  121.323529\n",
       "2023-05-07 01:47:46  117.794118\n",
       "2023-05-07 02:12:38  121.764706\n",
       "2023-05-07 02:06:22  140.294118\n",
       "2023-05-07 01:29:16    0.000000\n",
       "...                         ...\n",
       "2023-05-07 02:13:22  121.323529\n",
       "2023-05-07 02:15:02    1.764706\n",
       "2023-05-07 01:37:52  160.147059\n",
       "2023-05-07 01:39:00  164.117647\n",
       "2023-05-07 02:01:10  142.058824\n",
       "\n",
       "[1234 rows x 1 columns]"
      ]
     },
     "execution_count": 24,
     "metadata": {},
     "output_type": "execute_result"
    }
   ],
   "source": [
    "get_hhp(1800, 2)"
   ]
  },
  {
   "cell_type": "code",
   "execution_count": null,
   "id": "da7c0cd5-81c4-457d-909b-59e21d5caba5",
   "metadata": {},
   "outputs": [],
   "source": []
  },
  {
   "cell_type": "code",
   "execution_count": null,
   "id": "c4d36809-5d5f-4962-96fe-7ed5501bed7d",
   "metadata": {},
   "outputs": [],
   "source": []
  }
 ],
 "metadata": {
  "kernelspec": {
   "display_name": "Python 3 (ipykernel)",
   "language": "python",
   "name": "python3"
  },
  "language_info": {
   "codemirror_mode": {
    "name": "ipython",
    "version": 3
   },
   "file_extension": ".py",
   "mimetype": "text/x-python",
   "name": "python",
   "nbconvert_exporter": "python",
   "pygments_lexer": "ipython3",
   "version": "3.8.16"
  }
 },
 "nbformat": 4,
 "nbformat_minor": 5
}
